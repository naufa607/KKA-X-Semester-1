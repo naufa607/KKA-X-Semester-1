{
  "nbformat": 4,
  "nbformat_minor": 0,
  "metadata": {
    "colab": {
      "provenance": [],
      "authorship_tag": "ABX9TyPWi/Rs29GCepXnoBwergwh",
      "include_colab_link": true
    },
    "kernelspec": {
      "name": "python3",
      "display_name": "Python 3"
    },
    "language_info": {
      "name": "python"
    }
  },
  "cells": [
    {
      "cell_type": "markdown",
      "metadata": {
        "id": "view-in-github",
        "colab_type": "text"
      },
      "source": [
        "<a href=\"https://colab.research.google.com/github/naufa607/KKA-X-Semester-1/blob/main/1_Fungsi_Print_Naufa_Zadit_Taqwa_X_10.ipynb\" target=\"_parent\"><img src=\"https://colab.research.google.com/assets/colab-badge.svg\" alt=\"Open In Colab\"/></a>"
      ]
    },
    {
      "cell_type": "code",
      "execution_count": null,
      "metadata": {
        "id": "qN3-UuymxmAE",
        "colab": {
          "base_uri": "https://localhost:8080/"
        },
        "outputId": "22db034c-0b25-42af-f1b1-42a81170364c"
      },
      "outputs": [
        {
          "output_type": "stream",
          "name": "stdout",
          "text": [
            "Naufa Zadit Taqwa\n"
          ]
        }
      ],
      "source": [
        "nama =(\"Naufa Zadit Taqwa\")\n",
        "print(nama)"
      ]
    },
    {
      "cell_type": "code",
      "source": [
        "print(\"Cristiano Ronaldo\")"
      ],
      "metadata": {
        "id": "dhogClF81NLY",
        "colab": {
          "base_uri": "https://localhost:8080/"
        },
        "outputId": "a245cd50-f900-4f2d-e3a2-b95a8b93f867"
      },
      "execution_count": null,
      "outputs": [
        {
          "output_type": "stream",
          "name": "stdout",
          "text": [
            "Cristiano Ronaldo\n"
          ]
        }
      ]
    },
    {
      "cell_type": "code",
      "source": [
        "usia= 15\n",
        "print(\"usia\")"
      ],
      "metadata": {
        "colab": {
          "base_uri": "https://localhost:8080/"
        },
        "id": "UN8KXpN8Ad5k",
        "outputId": "d3436dfd-940f-4f6d-9be6-f8038023ea5c"
      },
      "execution_count": null,
      "outputs": [
        {
          "output_type": "stream",
          "name": "stdout",
          "text": [
            "usia\n"
          ]
        }
      ]
    },
    {
      "cell_type": "code",
      "source": [
        "namaSaudara= \"Ronaldo\"\n",
        "print (namaSaudara)"
      ],
      "metadata": {
        "colab": {
          "base_uri": "https://localhost:8080/"
        },
        "id": "UUX8TlGKAk0i",
        "outputId": "f12cd078-3dd6-403f-9f21-2b002b1e0007"
      },
      "execution_count": null,
      "outputs": [
        {
          "output_type": "stream",
          "name": "stdout",
          "text": [
            "Ronaldo\n"
          ]
        }
      ]
    },
    {
      "cell_type": "code",
      "source": [
        "mataPelajaranFavorit = \"PPKN\"\n",
        "print (mataPelajaranFavorit)."
      ],
      "metadata": {
        "colab": {
          "base_uri": "https://localhost:8080/"
        },
        "id": "pvJrIe3eBHTP",
        "outputId": "1ee4400c-a1b4-4d40-ebb2-df7eb6e8d2ea"
      },
      "execution_count": null,
      "outputs": [
        {
          "output_type": "stream",
          "name": "stdout",
          "text": [
            "PPKN\n"
          ]
        }
      ]
    },
    {
      "cell_type": "code",
      "source": [
        "nama_panggilan_siswa = \"Naufa\"\n",
        "print(f\"nama panggilan tersebut adalah {nama_panggilan_siswa} loh\")"
      ],
      "metadata": {
        "colab": {
          "base_uri": "https://localhost:8080/"
        },
        "id": "BLe2TU3AB_aQ",
        "outputId": "70c0055b-0798-4085-e347-beabe22ca227"
      },
      "execution_count": null,
      "outputs": [
        {
          "output_type": "stream",
          "name": "stdout",
          "text": [
            "nama panggilan tersebut adalah Naufa loh\n"
          ]
        }
      ]
    },
    {
      "cell_type": "markdown",
      "source": [
        "#3 menampilkan teks bebas dan nilai variabel"
      ],
      "metadata": {
        "id": "woJqxCfTE3BQ"
      }
    },
    {
      "cell_type": "code",
      "source": [
        "print(\"Halo perkenalkan nama saya\", nama, \"usia saya\",Usia,\"tahun.\")"
      ],
      "metadata": {
        "colab": {
          "base_uri": "https://localhost:8080/"
        },
        "id": "nkJrExeCDaLP",
        "outputId": "6d78a925-aef4-4157-c08a-f69f4c3bbba1"
      },
      "execution_count": null,
      "outputs": [
        {
          "output_type": "stream",
          "name": "stdout",
          "text": [
            "Halo perkenalkan nama saya naufa usia saya 15 tahun.\n"
          ]
        }
      ]
    },
    {
      "cell_type": "code",
      "source": [
        "Usia = \"15\"\n",
        "print(usia)"
      ],
      "metadata": {
        "colab": {
          "base_uri": "https://localhost:8080/"
        },
        "id": "7kuGgEpyCZ8D",
        "outputId": "8c0ce363-e538-46b3-c158-2df8d57deb68"
      },
      "execution_count": null,
      "outputs": [
        {
          "output_type": "stream",
          "name": "stdout",
          "text": [
            "15\n"
          ]
        }
      ]
    },
    {
      "cell_type": "code",
      "source": [
        "nama = \"naufa\"\n",
        "print(nama)"
      ],
      "metadata": {
        "colab": {
          "base_uri": "https://localhost:8080/"
        },
        "id": "aN3JmLLoCInU",
        "outputId": "1fd29d6b-23e7-44ff-bb5a-9c92c38ea15d"
      },
      "execution_count": null,
      "outputs": [
        {
          "output_type": "stream",
          "name": "stdout",
          "text": [
            "naufa\n"
          ]
        }
      ]
    },
    {
      "cell_type": "markdown",
      "source": [],
      "metadata": {
        "id": "In8slpvdCD8o"
      }
    },
    {
      "cell_type": "code",
      "source": [
        "print(\"nama saya \" + nama+\". usia saya \"+ str(Usia)+\"tahun.\")"
      ],
      "metadata": {
        "id": "1BGVnAZFCmzd",
        "colab": {
          "base_uri": "https://localhost:8080/"
        },
        "outputId": "e5b93f74-31f6-4a32-e181-3f7696d27bcc"
      },
      "execution_count": null,
      "outputs": [
        {
          "output_type": "stream",
          "name": "stdout",
          "text": [
            "nama saya naufa. usia saya 15tahun.\n"
          ]
        }
      ]
    },
    {
      "cell_type": "code",
      "source": [
        "nama_siswa_1=\"ridju\"\n",
        "nama_siswa_2=\"rafa\"\n",
        "print(nama_siswa_1)"
      ],
      "metadata": {
        "colab": {
          "base_uri": "https://localhost:8080/"
        },
        "id": "CuJJIQwAHbHv",
        "outputId": "a8874003-7410-483b-8fac-30492eb88664"
      },
      "execution_count": null,
      "outputs": [
        {
          "output_type": "stream",
          "name": "stdout",
          "text": [
            "ridju\n"
          ]
        }
      ]
    },
    {
      "cell_type": "code",
      "source": [
        "print(nama_siswa_1, nama_siswa_2)"
      ],
      "metadata": {
        "colab": {
          "base_uri": "https://localhost:8080/"
        },
        "id": "3VftSNXsH9an",
        "outputId": "f4acaa6d-dbbd-4159-8a0a-980feb82dc98"
      },
      "execution_count": null,
      "outputs": [
        {
          "output_type": "stream",
          "name": "stdout",
          "text": [
            "ridju rafa\n"
          ]
        }
      ]
    },
    {
      "cell_type": "code",
      "source": [
        "print(nama_siswa_1,nama_siswa_2,sep=\"-\")"
      ],
      "metadata": {
        "colab": {
          "base_uri": "https://localhost:8080/"
        },
        "id": "eHsFPuQ8ISGY",
        "outputId": "c6b88cf5-dbe0-4f86-b9eb-5d5dd84e916d"
      },
      "execution_count": null,
      "outputs": [
        {
          "output_type": "stream",
          "name": "stdout",
          "text": [
            "ridju-rafa\n"
          ]
        }
      ]
    },
    {
      "cell_type": "code",
      "source": [
        "print(nama_siswa_1,nama_siswa_2,nama_siswa_1,sep=\"*\")"
      ],
      "metadata": {
        "colab": {
          "base_uri": "https://localhost:8080/"
        },
        "id": "YYjspbsmIugE",
        "outputId": "e9a0fc7b-84e2-4f2d-90cc-3eee6b15cc89"
      },
      "execution_count": null,
      "outputs": [
        {
          "output_type": "stream",
          "name": "stdout",
          "text": [
            "ridju*rafa*ridju\n"
          ]
        }
      ]
    },
    {
      "cell_type": "code",
      "source": [
        "print(nama_siswa_1,end=\"*\")\n",
        "print(nama_siswa_2)"
      ],
      "metadata": {
        "colab": {
          "base_uri": "https://localhost:8080/"
        },
        "id": "LLmZ-ql5Loym",
        "outputId": "f97551aa-133f-4a03-ee3b-382d0607e0d0"
      },
      "execution_count": null,
      "outputs": [
        {
          "output_type": "stream",
          "name": "stdout",
          "text": [
            "ridju*rafa\n"
          ]
        }
      ]
    }
  ]
}